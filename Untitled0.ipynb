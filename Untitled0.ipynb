{
  "nbformat": 4,
  "nbformat_minor": 0,
  "metadata": {
    "colab": {
      "provenance": [],
      "toc_visible": true,
      "include_colab_link": true
    },
    "kernelspec": {
      "name": "python3",
      "display_name": "Python 3"
    },
    "language_info": {
      "name": "python"
    }
  },
  "cells": [
    {
      "cell_type": "markdown",
      "metadata": {
        "id": "view-in-github",
        "colab_type": "text"
      },
      "source": [
        "<a href=\"https://colab.research.google.com/github/1120145-png/python/blob/main/Untitled0.ipynb\" target=\"_parent\"><img src=\"https://colab.research.google.com/assets/colab-badge.svg\" alt=\"Open In Colab\"/></a>"
      ]
    },
    {
      "cell_type": "markdown",
      "source": [
        "# 基本練習"
      ],
      "metadata": {
        "id": "etCjzsTLPStB"
      }
    },
    {
      "cell_type": "code",
      "execution_count": null,
      "metadata": {
        "colab": {
          "base_uri": "https://localhost:8080/"
        },
        "id": "6D-Vk0hD2sYw",
        "outputId": "baa1b9c4-d631-4bb6-99fe-587a8e619b5f"
      },
      "outputs": [
        {
          "output_type": "stream",
          "name": "stdout",
          "text": [
            "輸入第一種數字9\n",
            "輸入第二種數字8\n",
            "72\n"
          ]
        }
      ],
      "source": [
        "數字1 = int(input('輸入第一種數字'))\n",
        "數字2 = int(input('輸入第二種數字'))\n",
        "print(數字1 * 數字2)   #*可以換成任意符號"
      ]
    },
    {
      "cell_type": "code",
      "source": [
        "#奇數、偶數判斷\n",
        "數字 = int(input('請輸入數字'))\n",
        "if 數字 % 2 == 0:\n",
        "    print('這個數字是偶數')\n",
        "else:\n",
        "    print('這個數字是奇數')"
      ],
      "metadata": {
        "colab": {
          "base_uri": "https://localhost:8080/"
        },
        "id": "BN-uon0bpEOC",
        "outputId": "188725bc-dee4-4fcc-a1f1-ad70c764a6d3"
      },
      "execution_count": null,
      "outputs": [
        {
          "output_type": "stream",
          "name": "stdout",
          "text": [
            "請輸入數字9\n",
            "這個數字是奇數\n"
          ]
        }
      ]
    },
    {
      "cell_type": "code",
      "source": [
        "# 成績等級計算機(含小數點)\n",
        "# 目標：練習使用更複雜的 if-elif-else 結構。\n",
        "# 讓使用者輸入一個 0 到 100 之間的分數。\n",
        "try:\n",
        "  成績 = float(input('請輸入成績'))\n",
        "  if 0 <= 成績 <= 100:\n",
        "    if 成績 >= 90:\n",
        "      print('A++')\n",
        "    elif 成績 >= 88:\n",
        "      print('A+')\n",
        "    elif 成績 >= 84:\n",
        "      print('A')\n",
        "    elif 成績 >= 78:\n",
        "      print('B++')\n",
        "    elif 成績 >= 72:\n",
        "      print('B+')\n",
        "    elif 成績 >= 60:\n",
        "      print('B')\n",
        "    elif 成績 < 60:\n",
        "      print('C' + ' ' + '不及格')\n",
        "  elif 成績 < 0 or 成績 > 100:\n",
        "    print('輸入錯誤')\n",
        "except ValueError:\n",
        "  print(\"輸入無效，請輸入一個數字。\")"
      ],
      "metadata": {
        "colab": {
          "base_uri": "https://localhost:8080/"
        },
        "id": "QEeoztXesRk4",
        "outputId": "81bd225f-5339-45ac-c89e-3c80f66ce70a"
      },
      "execution_count": 36,
      "outputs": [
        {
          "output_type": "stream",
          "name": "stdout",
          "text": [
            "請輸入成績85.6\n",
            "A\n"
          ]
        }
      ]
    },
    {
      "cell_type": "code",
      "source": [
        "# 1到10的總和\n",
        "# 目標：練習使用 for 迴圈來進行迭代計算。\n",
        "# 寫一個程式，計算從 1 到 10 所有整數的總和。\n",
        "# 印出最終的總和。\n",
        "\n",
        "整數總和 = 0\n",
        "for 數字 in range(1, 11): # 修改 range() 從 1 開始到 10 (不包含 11)\n",
        "  整數總和 += 數字 # 將每個數字加到總和中\n",
        "print(f\"從 1 到 10 的整數總和是: {整數總和}\")\n"
      ],
      "metadata": {
        "colab": {
          "base_uri": "https://localhost:8080/"
        },
        "id": "5C6nv_ZV-_dO",
        "outputId": "962645b8-4a79-4078-db21-4c39e040a4bf"
      },
      "execution_count": 42,
      "outputs": [
        {
          "output_type": "stream",
          "name": "stdout",
          "text": [
            "從 1 到 10 的整數總和是: 55\n"
          ]
        }
      ]
    },
    {
      "cell_type": "markdown",
      "metadata": {
        "id": "512fbb94"
      },
      "source": [
        "### 迴圈加強"
      ]
    },
    {
      "cell_type": "code",
      "source": [
        "# 自我介紹\n",
        "名字 = '李源昌'\n",
        "年齡 = 14\n",
        "喜歡的食物 = '鳳爪'\n",
        "\n",
        "print('我的名字是',名字)\n",
        "print('我今年',年齡,'歲')\n",
        "print('我最喜歡的食物是',喜歡的食物)"
      ],
      "metadata": {
        "colab": {
          "base_uri": "https://localhost:8080/"
        },
        "id": "rKX9aDaQTnNb",
        "outputId": "93a52370-4a03-4829-f093-48f1a8ea54b2"
      },
      "execution_count": 52,
      "outputs": [
        {
          "output_type": "stream",
          "name": "stdout",
          "text": [
            "我的名字是 李源昌\n",
            "我今年 14 歲\n",
            "我最喜歡的食物是 鳳爪\n"
          ]
        }
      ]
    },
    {
      "cell_type": "code",
      "source": [
        "# 長方形長寬計算-浮點數\n",
        "長1 = float(input('長方形長度'))\n",
        "寬1 = float(input('長方形寬度'))\n",
        "面積 = 長1 * 寬1\n",
        "print('長方形的面積是',面積)"
      ],
      "metadata": {
        "colab": {
          "base_uri": "https://localhost:8080/"
        },
        "id": "fhnG9L02VFYg",
        "outputId": "36c97e5e-e9ef-4b07-82b7-dc394580cd2f"
      },
      "execution_count": 63,
      "outputs": [
        {
          "output_type": "stream",
          "name": "stdout",
          "text": [
            "長方形長度9.8\n",
            "長方形寬度7.5\n",
            "長方形的面積是 73.5\n"
          ]
        }
      ]
    }
  ]
}