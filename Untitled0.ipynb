{
  "nbformat": 4,
  "nbformat_minor": 0,
  "metadata": {
    "colab": {
      "provenance": [],
      "include_colab_link": true
    },
    "kernelspec": {
      "name": "python3",
      "display_name": "Python 3"
    },
    "language_info": {
      "name": "python"
    }
  },
  "cells": [
    {
      "cell_type": "markdown",
      "metadata": {
        "id": "view-in-github",
        "colab_type": "text"
      },
      "source": [
        "<a href=\"https://colab.research.google.com/github/1120145-png/python/blob/main/Untitled0.ipynb\" target=\"_parent\"><img src=\"https://colab.research.google.com/assets/colab-badge.svg\" alt=\"Open In Colab\"/></a>"
      ]
    },
    {
      "cell_type": "markdown",
      "source": [
        "# 基本練習"
      ],
      "metadata": {
        "id": "etCjzsTLPStB"
      }
    },
    {
      "cell_type": "code",
      "execution_count": null,
      "metadata": {
        "id": "6D-Vk0hD2sYw"
      },
      "outputs": [],
      "source": [
        "數字1 = int(input('輸入第一種數字'))\n",
        "數字2 = int(input('輸入第二種數字'))\n",
        "print(數字1 * 數字2)   #*可以換成任意符號"
      ]
    },
    {
      "cell_type": "code",
      "source": [
        "#奇數、偶數判斷\n",
        "數字 = int(input('請輸入數字'))\n",
        "if 數字 % 2 == 0:\n",
        "    print('這個數字是偶數')\n",
        "else:\n",
        "    print('這個數字是奇數')"
      ],
      "metadata": {
        "id": "BN-uon0bpEOC"
      },
      "execution_count": null,
      "outputs": []
    },
    {
      "cell_type": "code",
      "source": [
        "# 成績等級計算機(含小數點)\n",
        "# 目標：練習使用更複雜的 if-elif-else 結構。\n",
        "# 讓使用者輸入一個 0 到 100 之間的分數。\n",
        "try:\n",
        "  成績 = float(input('請輸入成績'))\n",
        "  if 0 <= 成績 <= 100:\n",
        "    if 成績 >= 90:\n",
        "      print('A++')\n",
        "    elif 成績 >= 88:\n",
        "      print('A+')\n",
        "    elif 成績 >= 84:\n",
        "      print('A')\n",
        "    elif 成績 >= 78:\n",
        "      print('B++')\n",
        "    elif 成績 >= 72:\n",
        "      print('B+')\n",
        "    elif 成績 >= 60:\n",
        "      print('B')\n",
        "    elif 成績 < 60:\n",
        "      print('C' + ' ' + '不及格')\n",
        "  elif 成績 < 0 or 成績 > 100:\n",
        "    print('輸入錯誤')\n",
        "except ValueError:\n",
        "  print(\"輸入無效，請輸入一個數字。\")"
      ],
      "metadata": {
        "id": "QEeoztXesRk4"
      },
      "execution_count": null,
      "outputs": []
    },
    {
      "cell_type": "code",
      "source": [
        "# 1到10的總和\n",
        "# 目標：練習使用 for 迴圈來進行迭代計算。\n",
        "# 寫一個程式，計算從 1 到 10 所有整數的總和。\n",
        "# 印出最終的總和。\n",
        "\n",
        "整數總和 = 0\n",
        "for 數字 in range(1, 11): # 修改 range() 從 1 開始到 10 (不包含 11)\n",
        "  整數總和 += 數字 # 將每個數字加到總和中\n",
        "print(f\"從 1 到 10 的整數總和是: {整數總和}\")\n"
      ],
      "metadata": {
        "id": "5C6nv_ZV-_dO"
      },
      "execution_count": null,
      "outputs": []
    },
    {
      "cell_type": "code",
      "source": [
        "# 自編無目的\n",
        "try:\n",
        "  乘數1 = float(input('輸入數字'))\n",
        "  乘數2 = float(input('輸入數字'))\n",
        "  if 乘數1 == float(input) and 乘數2 == float(input):\n",
        "    print(乘數1 * 乘數2)\n",
        "except ValueError:\n",
        " print('請輸入有效數值')"
      ],
      "metadata": {
        "id": "XEQLd3BxaRGI"
      },
      "execution_count": null,
      "outputs": []
    },
    {
      "cell_type": "code",
      "source": [],
      "metadata": {
        "id": "4teLWQmUsqND"
      },
      "execution_count": null,
      "outputs": []
    },
    {
      "cell_type": "markdown",
      "metadata": {
        "id": "512fbb94"
      },
      "source": [
        "### 迴圈加強"
      ]
    },
    {
      "cell_type": "code",
      "source": [
        "# 自我介紹\n",
        "名字 = '李源昌'\n",
        "年齡 = 14\n",
        "喜歡的食物 = '鳳爪'\n",
        "\n",
        "print('我的名字是',名字)\n",
        "print('我今年',年齡,'歲')\n",
        "print('我最喜歡的食物是',喜歡的食物)"
      ],
      "metadata": {
        "id": "rKX9aDaQTnNb"
      },
      "execution_count": null,
      "outputs": []
    },
    {
      "cell_type": "code",
      "source": [
        "# 長方形長寬計算-浮點數\n",
        "長1 = float(input('長方形長度'))\n",
        "寬1 = float(input('長方形寬度'))\n",
        "面積 = 長1 * 寬1\n",
        "print('長方形的面積是',面積)"
      ],
      "metadata": {
        "id": "fhnG9L02VFYg"
      },
      "execution_count": null,
      "outputs": []
    },
    {
      "cell_type": "code",
      "source": [
        "# 練習使用 if-else 來做一個簡單的邏輯判斷\n",
        "while True:\n",
        "  try:\n",
        "    觀眾年齡 = input('請輸入年齡')\n",
        "    age = int(觀眾年齡)\n",
        "    if age >= 15:\n",
        "      print('歡迎入場')\n",
        "    else:\n",
        "      print('您未滿15歲，不可入場')\n",
        "    break # 輸入有效數字後跳出迴圈\n",
        "  except ValueError:\n",
        "    print('請輸入有效數值')"
      ],
      "metadata": {
        "id": "SCuIDGzisbzE"
      },
      "execution_count": null,
      "outputs": []
    },
    {
      "cell_type": "code",
      "source": [
        "數字 = 1\n",
        "while 數字 <= 20:\n",
        "  if 數字 % 2 ==0:\n",
        "   print(數字)\n",
        "  數字 += 1"
      ],
      "metadata": {
        "id": "v3sXCJY92kTY"
      },
      "execution_count": null,
      "outputs": []
    },
    {
      "cell_type": "code",
      "source": [
        "數字 = 1\n",
        "while 數字 <= 10:\n",
        "  if 數字 == 7:\n",
        "    數字 = 數字 + 1\n",
        "    continue\n",
        "  print(數字)\n",
        "  數字 = 數字 + 1\n",
        "\n"
      ],
      "metadata": {
        "id": "eoO3vBY17hNX"
      },
      "execution_count": null,
      "outputs": []
    },
    {
      "cell_type": "code",
      "source": [
        "for 倒數 in range(10,-1,-1):\n",
        "  print(倒數)\n",
        "print('發射')"
      ],
      "metadata": {
        "id": "oTsK1RBR97e3"
      },
      "execution_count": null,
      "outputs": []
    },
    {
      "cell_type": "code",
      "source": [
        "數字 = 0\n",
        "for 累積數字 in range(1,101):\n",
        "  數字 = 數字 + 累積數字\n",
        "print('數字1-100的總和是',數字)\n"
      ],
      "metadata": {
        "id": "s0RW6Qjc_I8V"
      },
      "execution_count": null,
      "outputs": []
    },
    {
      "cell_type": "code",
      "source": [
        "# 新增清單\n",
        "事項清單=[]\n",
        "# 新增事件至清單\n",
        "事項清單.append('買早餐')\n",
        "事項清單.append('買午餐')\n",
        "事項清單.append('買晚餐')\n",
        "# 清單事件依依取出\n",
        "for 代辦事項項目 in 事項清單:\n",
        "# 建立主迴圈，讓城市繼續運行\n",
        " while True:\n",
        "    print('\\n--- 歡迎使用待辦事項管理程式 ---')\n",
        "    print('1. 新增代辦事項')\n",
        "    print('2. 查看所有事項')\n",
        "    print('3. 移除代辦事項')\n",
        "    print('4. 關閉程式')\n",
        "    print('---------------------------------')\n",
        "    # 取得使用者輸入\n",
        "    選擇 = input('請輸入選項 (1/2/3/4): ')\n",
        "    # 判斷使用者的選擇\n",
        "    if 選擇 == '1':\n",
        "      # 用一個\"新的\"臨時變數來接收輸入\n",
        "      新事項 = input('請輸入要新增的代辦事項：')\n",
        "      # 將\"新事項\"加入到我們統一的\"事項清單\"中\n",
        "      事項清單.append(新事項)\n",
        "      print(\"事項『\", 新事項, \"』已成功新增！\")\n",
        "    elif 選擇 == '2':\n",
        "      print('\\n--- 目前所有的待辦事項 ---')\n",
        "      if not 事項清單:\n",
        "        print('(目前沒有任何事項)')\n",
        "      else:\n",
        "        for 項目 in 事項清單:\n",
        "         print('-',項目)\n",
        "    elif 選擇 == '3':\n",
        "      print('\\n--- 移除代辦事項 ---')\n",
        "       # 先檢查列表是否為空\n",
        "      if not 事項清單:\n",
        "        print('尚有可移除項目')\n",
        "      else:\n",
        "         # 列出所有帶編號的事項，讓使用者選擇\n",
        "         # enumerate() 是一個好用的工具，可以同時給我們索引(編號)和項目\n",
        "        print(\"請選擇要移除的事項編號：\")\n",
        "        for 記數,項目 in enumerate(事項清單, start=1):\n",
        "          # 目的：為了讓使用者能清楚地選擇，需要顯示所有事項及其編號\n",
        "          # 做法：使用 f-string 組合編號和項目內容，例如格式化成 \"1. 買早餐\"\n",
        "          print(f'{記數}. {項目}')\n",
        "        try:\n",
        "          # 取得使用者想刪除的編號\n",
        "          要移除的編號_str = input('輸入編號')\n",
        "          要移除的編號_int = int(要移除的編號_str)\n",
        "           # 檢查編號是否在有效範圍內\n",
        "          if 1 <= 要移除的編號_int <= len(事項清單):\n",
        "            # 執行移除！\n",
        "            # 使用 .pop() 來移除指定位置的項目。因為列表索引是從0開始，所以要減1\n",
        "            移除的項目 = 事項清單.pop(要移除的編號_int - 1)\n",
        "            print('事項已成功移除！')\n",
        "          else:\n",
        "            # 如果使用者輸入的數字超出範圍\n",
        "            print('無效的編號')\n",
        "        except ValueError:\n",
        "          # 如果使用者輸入的不是數字\n",
        "          print('請輸入有效的數字')\n",
        "    elif 選擇 == '4':\n",
        "        print(\"感謝使用，程式即將關閉。\")\n",
        "        break\n",
        "\n",
        "    else:\n",
        "        print(\"無效的選項，請重新輸入。\")"
      ],
      "metadata": {
        "colab": {
          "base_uri": "https://localhost:8080/"
        },
        "id": "sfRKezdXDwTH",
        "outputId": "9794d7be-80b6-4c62-f72d-5dd2c0663c83"
      },
      "execution_count": null,
      "outputs": [
        {
          "output_type": "stream",
          "name": "stdout",
          "text": [
            "\n",
            "--- 歡迎使用待辦事項管理程式 ---\n",
            "1. 新增代辦事項\n",
            "2. 查看所有事項\n",
            "3. 移除代辦事項\n",
            "4. 關閉程式\n",
            "---------------------------------\n"
          ]
        }
      ]
    },
    {
      "cell_type": "markdown",
      "source": [
        "# 待修復"
      ],
      "metadata": {
        "id": "cNf8MZNNrxex"
      }
    },
    {
      "cell_type": "code",
      "source": [],
      "metadata": {
        "id": "_0xz-4oGy25p"
      },
      "execution_count": null,
      "outputs": []
    }
  ]
}