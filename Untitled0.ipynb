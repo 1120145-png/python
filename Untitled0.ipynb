{
  "nbformat": 4,
  "nbformat_minor": 0,
  "metadata": {
    "colab": {
      "provenance": [],
      "include_colab_link": true
    },
    "kernelspec": {
      "name": "python3",
      "display_name": "Python 3"
    },
    "language_info": {
      "name": "python"
    }
  },
  "cells": [
    {
      "cell_type": "markdown",
      "metadata": {
        "id": "view-in-github",
        "colab_type": "text"
      },
      "source": [
        "<a href=\"https://colab.research.google.com/github/1120145-png/python/blob/main/Untitled0.ipynb\" target=\"_parent\"><img src=\"https://colab.research.google.com/assets/colab-badge.svg\" alt=\"Open In Colab\"/></a>"
      ]
    },
    {
      "cell_type": "markdown",
      "source": [
        "# 基本練習"
      ],
      "metadata": {
        "id": "etCjzsTLPStB"
      }
    },
    {
      "cell_type": "code",
      "execution_count": null,
      "metadata": {
        "colab": {
          "base_uri": "https://localhost:8080/"
        },
        "id": "6D-Vk0hD2sYw",
        "outputId": "baa1b9c4-d631-4bb6-99fe-587a8e619b5f"
      },
      "outputs": [
        {
          "output_type": "stream",
          "name": "stdout",
          "text": [
            "輸入第一種數字9\n",
            "輸入第二種數字8\n",
            "72\n"
          ]
        }
      ],
      "source": [
        "數字1 = int(input('輸入第一種數字'))\n",
        "數字2 = int(input('輸入第二種數字'))\n",
        "print(數字1 * 數字2)   #*可以換成任意符號"
      ]
    },
    {
      "cell_type": "code",
      "source": [
        "#奇數、偶數判斷\n",
        "數字 = int(input('請輸入數字'))\n",
        "if 數字 % 2 == 0:\n",
        "    print('這個數字是偶數')\n",
        "else:\n",
        "    print('這個數字是奇數')"
      ],
      "metadata": {
        "colab": {
          "base_uri": "https://localhost:8080/"
        },
        "id": "BN-uon0bpEOC",
        "outputId": "188725bc-dee4-4fcc-a1f1-ad70c764a6d3"
      },
      "execution_count": null,
      "outputs": [
        {
          "output_type": "stream",
          "name": "stdout",
          "text": [
            "請輸入數字9\n",
            "這個數字是奇數\n"
          ]
        }
      ]
    },
    {
      "cell_type": "code",
      "source": [
        "# 成績等級計算機(含小數點)\n",
        "# 目標：練習使用更複雜的 if-elif-else 結構。\n",
        "# 讓使用者輸入一個 0 到 100 之間的分數。\n",
        "try:\n",
        "  成績 = float(input('請輸入成績'))\n",
        "  if 0 <= 成績 <= 100:\n",
        "    if 成績 >= 90:\n",
        "      print('A++')\n",
        "    elif 成績 >= 88:\n",
        "      print('A+')\n",
        "    elif 成績 >= 84:\n",
        "      print('A')\n",
        "    elif 成績 >= 78:\n",
        "      print('B++')\n",
        "    elif 成績 >= 72:\n",
        "      print('B+')\n",
        "    elif 成績 >= 60:\n",
        "      print('B')\n",
        "    elif 成績 < 60:\n",
        "      print('C' + ' ' + '不及格')\n",
        "  elif 成績 < 0 or 成績 > 100:\n",
        "    print('輸入錯誤')\n",
        "except ValueError:\n",
        "  print(\"輸入無效，請輸入一個數字。\")"
      ],
      "metadata": {
        "colab": {
          "base_uri": "https://localhost:8080/"
        },
        "id": "QEeoztXesRk4",
        "outputId": "81bd225f-5339-45ac-c89e-3c80f66ce70a"
      },
      "execution_count": null,
      "outputs": [
        {
          "output_type": "stream",
          "name": "stdout",
          "text": [
            "請輸入成績85.6\n",
            "A\n"
          ]
        }
      ]
    },
    {
      "cell_type": "code",
      "source": [
        "# 1到10的總和\n",
        "# 目標：練習使用 for 迴圈來進行迭代計算。\n",
        "# 寫一個程式，計算從 1 到 10 所有整數的總和。\n",
        "# 印出最終的總和。\n",
        "\n",
        "整數總和 = 0\n",
        "for 數字 in range(1, 11): # 修改 range() 從 1 開始到 10 (不包含 11)\n",
        "  整數總和 += 數字 # 將每個數字加到總和中\n",
        "print(f\"從 1 到 10 的整數總和是: {整數總和}\")\n"
      ],
      "metadata": {
        "colab": {
          "base_uri": "https://localhost:8080/"
        },
        "id": "5C6nv_ZV-_dO",
        "outputId": "962645b8-4a79-4078-db21-4c39e040a4bf"
      },
      "execution_count": null,
      "outputs": [
        {
          "output_type": "stream",
          "name": "stdout",
          "text": [
            "從 1 到 10 的整數總和是: 55\n"
          ]
        }
      ]
    },
    {
      "cell_type": "code",
      "source": [
        "# 自編無目的\n",
        "try:\n",
        "  乘數1 = float(input('輸入數字'))\n",
        "  乘數2 = float(input('輸入數字'))\n",
        "  if 乘數1 == float(input) and 乘數2 == float(input):\n",
        "    print(乘數1 * 乘數2)\n",
        "except ValueError:\n",
        " print('請輸入有效數值')"
      ],
      "metadata": {
        "colab": {
          "base_uri": "https://localhost:8080/"
        },
        "id": "XEQLd3BxaRGI",
        "outputId": "146196f4-be44-42e8-e7af-1f02f8180579"
      },
      "execution_count": 22,
      "outputs": [
        {
          "output_type": "stream",
          "name": "stdout",
          "text": [
            "輸入數字E\n",
            "請輸入有效數值\n"
          ]
        }
      ]
    },
    {
      "cell_type": "code",
      "source": [],
      "metadata": {
        "id": "4teLWQmUsqND"
      },
      "execution_count": null,
      "outputs": []
    },
    {
      "cell_type": "markdown",
      "metadata": {
        "id": "512fbb94"
      },
      "source": [
        "### 迴圈加強"
      ]
    },
    {
      "cell_type": "code",
      "source": [
        "# 自我介紹\n",
        "名字 = '李源昌'\n",
        "年齡 = 14\n",
        "喜歡的食物 = '鳳爪'\n",
        "\n",
        "print('我的名字是',名字)\n",
        "print('我今年',年齡,'歲')\n",
        "print('我最喜歡的食物是',喜歡的食物)"
      ],
      "metadata": {
        "colab": {
          "base_uri": "https://localhost:8080/"
        },
        "id": "rKX9aDaQTnNb",
        "outputId": "93a52370-4a03-4829-f093-48f1a8ea54b2"
      },
      "execution_count": null,
      "outputs": [
        {
          "output_type": "stream",
          "name": "stdout",
          "text": [
            "我的名字是 李源昌\n",
            "我今年 14 歲\n",
            "我最喜歡的食物是 鳳爪\n"
          ]
        }
      ]
    },
    {
      "cell_type": "code",
      "source": [
        "# 長方形長寬計算-浮點數\n",
        "長1 = float(input('長方形長度'))\n",
        "寬1 = float(input('長方形寬度'))\n",
        "面積 = 長1 * 寬1\n",
        "print('長方形的面積是',面積)"
      ],
      "metadata": {
        "colab": {
          "base_uri": "https://localhost:8080/"
        },
        "id": "fhnG9L02VFYg",
        "outputId": "36c97e5e-e9ef-4b07-82b7-dc394580cd2f"
      },
      "execution_count": null,
      "outputs": [
        {
          "output_type": "stream",
          "name": "stdout",
          "text": [
            "長方形長度9.8\n",
            "長方形寬度7.5\n",
            "長方形的面積是 73.5\n"
          ]
        }
      ]
    },
    {
      "cell_type": "code",
      "source": [
        "# 練習使用 if-else 來做一個簡單的邏輯判斷\n",
        "while True:\n",
        "  try:\n",
        "    觀眾年齡 = input('請輸入年齡')\n",
        "    age = int(觀眾年齡)\n",
        "    if age >= 15:\n",
        "      print('歡迎入場')\n",
        "    else:\n",
        "      print('您未滿15歲，不可入場')\n",
        "    break # 輸入有效數字後跳出迴圈\n",
        "  except ValueError:\n",
        "    print('請輸入有效數值')"
      ],
      "metadata": {
        "colab": {
          "base_uri": "https://localhost:8080/"
        },
        "id": "SCuIDGzisbzE",
        "outputId": "dd3c70e5-83ad-4b7b-e279-05d59b1a999d"
      },
      "execution_count": 93,
      "outputs": [
        {
          "output_type": "stream",
          "name": "stdout",
          "text": [
            "請輸入年齡4\n",
            "您未滿15歲，不可入場\n"
          ]
        }
      ]
    },
    {
      "cell_type": "code",
      "source": [
        "數字 = 1\n",
        "while 數字 <= 20:\n",
        "  if 數字 % 2 ==0:\n",
        "   print(數字)\n",
        "  數字 += 1"
      ],
      "metadata": {
        "colab": {
          "base_uri": "https://localhost:8080/"
        },
        "id": "v3sXCJY92kTY",
        "outputId": "48672a13-25c4-48f0-a741-5707209fa64f"
      },
      "execution_count": 100,
      "outputs": [
        {
          "output_type": "stream",
          "name": "stdout",
          "text": [
            "2\n",
            "4\n",
            "6\n",
            "8\n",
            "10\n",
            "12\n",
            "14\n",
            "16\n",
            "18\n",
            "20\n"
          ]
        }
      ]
    },
    {
      "cell_type": "code",
      "source": [
        "數字 = 1\n",
        "while 數字 <= 10:\n",
        "  if 數字 == 7:\n",
        "    數字 = 數字 + 1\n",
        "    continue\n",
        "  print(數字)\n",
        "  數字 = 數字 + 1\n",
        "\n",
        ""
      ],
      "metadata": {
        "colab": {
          "base_uri": "https://localhost:8080/"
        },
        "id": "eoO3vBY17hNX",
        "outputId": "7181dc49-b7bd-4566-bcbe-3f84e8549b37"
      },
      "execution_count": 115,
      "outputs": [
        {
          "output_type": "stream",
          "name": "stdout",
          "text": [
            "1\n",
            "2\n",
            "3\n",
            "4\n",
            "5\n",
            "6\n",
            "8\n",
            "9\n",
            "10\n"
          ]
        }
      ]
    },
    {
      "cell_type": "code",
      "source": [
        "for 倒數 in range(10,-1,-1):\n",
        "  print(倒數)\n",
        "print('發射')"
      ],
      "metadata": {
        "colab": {
          "base_uri": "https://localhost:8080/"
        },
        "id": "oTsK1RBR97e3",
        "outputId": "e4cf3233-29c5-41bb-ed51-999661c4b940"
      },
      "execution_count": 123,
      "outputs": [
        {
          "output_type": "stream",
          "name": "stdout",
          "text": [
            "10\n",
            "9\n",
            "8\n",
            "7\n",
            "6\n",
            "5\n",
            "4\n",
            "3\n",
            "2\n",
            "1\n",
            "0\n",
            "發射\n"
          ]
        }
      ]
    },
    {
      "cell_type": "code",
      "source": [
        "數字 = 0\n",
        "for 累積數字 in range(1,101):\n",
        "  數字 = 數字 + 累積數字\n",
        "print('數字1-100的總和是',數字)\n"
      ],
      "metadata": {
        "colab": {
          "base_uri": "https://localhost:8080/"
        },
        "id": "s0RW6Qjc_I8V",
        "outputId": "83b2260e-cb7a-45f5-fbf7-2ef406053cb4"
      },
      "execution_count": 126,
      "outputs": [
        {
          "output_type": "stream",
          "name": "stdout",
          "text": [
            "數字1-100的總和是 5050\n"
          ]
        }
      ]
    },
    {
      "cell_type": "code",
      "source": [
        "# 新增清單\n",
        "事項清單=[]\n",
        "# 新增事件至清單\n",
        "事項清單.append('買早餐')\n",
        "事項清單.append('買午餐')\n",
        "事項清單.append('買晚餐')\n",
        "# 清單事件依依取出\n",
        "for 代辦事項項目 in 事項清單:\n",
        "# 建立主迴圈，讓城市繼續運行\n",
        " while True:\n",
        "    print('\\n--- 歡迎使用待辦事項管理程式 ---')\n",
        "    print('1. 新增代辦事項')\n",
        "    print('2. 查看所有事項')\n",
        "    print('3. 關閉程式')\n",
        "    print('---------------------------------')\n",
        "    # 取得使用者輸入\n",
        "    選擇 = input('請輸入選項 (1/2/3): ')\n",
        "    # 判斷使用者的選擇\n",
        "    if 選擇 == '1':\n",
        "      # 用一個\"新的\"臨時變數來接收輸入\n",
        "      新事項 = input('請輸入要新增的代辦事項：')\n",
        "      # 將\"新事項\"加入到我們統一的\"事項清單\"中\n",
        "      事項清單.append(新事項)\n",
        "      print(\"事項『\", 新事項, \"』已成功新增！\")\n",
        "    elif 選擇 == '2':\n",
        "      print('\\n--- 目前所有的待辦事項 ---')\n",
        "      if not 事項清單:\n",
        "        print('(目前沒有任何事項)')\n",
        "      else:\n",
        "        for 項目 in 事項清單:\n",
        "         print('-',項目)\n",
        "    elif 選擇 == '3':\n",
        "        print(\"感謝使用，程式即將關閉。\")\n",
        "        break\n",
        "\n",
        "    else:\n",
        "        print(\"無效的選項，請重新輸入。\")"
      ],
      "metadata": {
        "colab": {
          "base_uri": "https://localhost:8080/",
          "height": 772
        },
        "id": "sfRKezdXDwTH",
        "outputId": "91934ccf-499d-480a-a9de-183db28b28b1"
      },
      "execution_count": 16,
      "outputs": [
        {
          "output_type": "stream",
          "name": "stdout",
          "text": [
            "\n",
            "--- 歡迎使用待辦事項管理程式 ---\n",
            "1. 新增代辦事項\n",
            "2. 查看所有事項\n",
            "3. 關閉程式\n",
            "---------------------------------\n",
            "請輸入選項 (1/2/3): 3\n",
            "感謝使用，程式即將關閉。\n",
            "\n",
            "--- 歡迎使用待辦事項管理程式 ---\n",
            "1. 新增代辦事項\n",
            "2. 查看所有事項\n",
            "3. 關閉程式\n",
            "---------------------------------\n",
            "請輸入選項 (1/2/3): 4\n",
            "無效的選項，請重新輸入。\n",
            "\n",
            "--- 歡迎使用待辦事項管理程式 ---\n",
            "1. 新增代辦事項\n",
            "2. 查看所有事項\n",
            "3. 關閉程式\n",
            "---------------------------------\n"
          ]
        },
        {
          "output_type": "error",
          "ename": "KeyboardInterrupt",
          "evalue": "Interrupted by user",
          "traceback": [
            "\u001b[0;31m---------------------------------------------------------------------------\u001b[0m",
            "\u001b[0;31mKeyboardInterrupt\u001b[0m                         Traceback (most recent call last)",
            "\u001b[0;32m/tmp/ipython-input-2588629258.py\u001b[0m in \u001b[0;36m<cell line: 0>\u001b[0;34m()\u001b[0m\n\u001b[1;32m     15\u001b[0m     \u001b[0mprint\u001b[0m\u001b[0;34m(\u001b[0m\u001b[0;34m'---------------------------------'\u001b[0m\u001b[0;34m)\u001b[0m\u001b[0;34m\u001b[0m\u001b[0;34m\u001b[0m\u001b[0m\n\u001b[1;32m     16\u001b[0m     \u001b[0;31m# 取得使用者輸入\u001b[0m\u001b[0;34m\u001b[0m\u001b[0;34m\u001b[0m\u001b[0m\n\u001b[0;32m---> 17\u001b[0;31m     \u001b[0m選擇\u001b[0m \u001b[0;34m=\u001b[0m \u001b[0minput\u001b[0m\u001b[0;34m(\u001b[0m\u001b[0;34m'請輸入選項 (1/2/3): '\u001b[0m\u001b[0;34m)\u001b[0m\u001b[0;34m\u001b[0m\u001b[0;34m\u001b[0m\u001b[0m\n\u001b[0m\u001b[1;32m     18\u001b[0m     \u001b[0;31m# 判斷使用者的選擇\u001b[0m\u001b[0;34m\u001b[0m\u001b[0;34m\u001b[0m\u001b[0m\n\u001b[1;32m     19\u001b[0m     \u001b[0;32mif\u001b[0m \u001b[0m選擇\u001b[0m \u001b[0;34m==\u001b[0m \u001b[0;34m'1'\u001b[0m\u001b[0;34m:\u001b[0m\u001b[0;34m\u001b[0m\u001b[0;34m\u001b[0m\u001b[0m\n",
            "\u001b[0;32m/usr/local/lib/python3.12/dist-packages/ipykernel/kernelbase.py\u001b[0m in \u001b[0;36mraw_input\u001b[0;34m(self, prompt)\u001b[0m\n\u001b[1;32m   1175\u001b[0m                 \u001b[0;34m\"raw_input was called, but this frontend does not support input requests.\"\u001b[0m\u001b[0;34m\u001b[0m\u001b[0;34m\u001b[0m\u001b[0m\n\u001b[1;32m   1176\u001b[0m             )\n\u001b[0;32m-> 1177\u001b[0;31m         return self._input_request(\n\u001b[0m\u001b[1;32m   1178\u001b[0m             \u001b[0mstr\u001b[0m\u001b[0;34m(\u001b[0m\u001b[0mprompt\u001b[0m\u001b[0;34m)\u001b[0m\u001b[0;34m,\u001b[0m\u001b[0;34m\u001b[0m\u001b[0;34m\u001b[0m\u001b[0m\n\u001b[1;32m   1179\u001b[0m             \u001b[0mself\u001b[0m\u001b[0;34m.\u001b[0m\u001b[0m_parent_ident\u001b[0m\u001b[0;34m[\u001b[0m\u001b[0;34m\"shell\"\u001b[0m\u001b[0;34m]\u001b[0m\u001b[0;34m,\u001b[0m\u001b[0;34m\u001b[0m\u001b[0;34m\u001b[0m\u001b[0m\n",
            "\u001b[0;32m/usr/local/lib/python3.12/dist-packages/ipykernel/kernelbase.py\u001b[0m in \u001b[0;36m_input_request\u001b[0;34m(self, prompt, ident, parent, password)\u001b[0m\n\u001b[1;32m   1217\u001b[0m             \u001b[0;32mexcept\u001b[0m \u001b[0mKeyboardInterrupt\u001b[0m\u001b[0;34m:\u001b[0m\u001b[0;34m\u001b[0m\u001b[0;34m\u001b[0m\u001b[0m\n\u001b[1;32m   1218\u001b[0m                 \u001b[0;31m# re-raise KeyboardInterrupt, to truncate traceback\u001b[0m\u001b[0;34m\u001b[0m\u001b[0;34m\u001b[0m\u001b[0m\n\u001b[0;32m-> 1219\u001b[0;31m                 \u001b[0;32mraise\u001b[0m \u001b[0mKeyboardInterrupt\u001b[0m\u001b[0;34m(\u001b[0m\u001b[0;34m\"Interrupted by user\"\u001b[0m\u001b[0;34m)\u001b[0m \u001b[0;32mfrom\u001b[0m \u001b[0;32mNone\u001b[0m\u001b[0;34m\u001b[0m\u001b[0;34m\u001b[0m\u001b[0m\n\u001b[0m\u001b[1;32m   1220\u001b[0m             \u001b[0;32mexcept\u001b[0m \u001b[0mException\u001b[0m\u001b[0;34m:\u001b[0m\u001b[0;34m\u001b[0m\u001b[0;34m\u001b[0m\u001b[0m\n\u001b[1;32m   1221\u001b[0m                 \u001b[0mself\u001b[0m\u001b[0;34m.\u001b[0m\u001b[0mlog\u001b[0m\u001b[0;34m.\u001b[0m\u001b[0mwarning\u001b[0m\u001b[0;34m(\u001b[0m\u001b[0;34m\"Invalid Message:\"\u001b[0m\u001b[0;34m,\u001b[0m \u001b[0mexc_info\u001b[0m\u001b[0;34m=\u001b[0m\u001b[0;32mTrue\u001b[0m\u001b[0;34m)\u001b[0m\u001b[0;34m\u001b[0m\u001b[0;34m\u001b[0m\u001b[0m\n",
            "\u001b[0;31mKeyboardInterrupt\u001b[0m: Interrupted by user"
          ]
        }
      ]
    },
    {
      "cell_type": "markdown",
      "source": [
        "# 待修復"
      ],
      "metadata": {
        "id": "cNf8MZNNrxex"
      }
    },
    {
      "cell_type": "code",
      "source": [],
      "metadata": {
        "id": "_0xz-4oGy25p"
      },
      "execution_count": null,
      "outputs": []
    }
  ]
}